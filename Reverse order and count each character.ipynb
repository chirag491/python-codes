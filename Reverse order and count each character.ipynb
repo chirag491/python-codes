{
 "cells": [
  {
   "cell_type": "markdown",
   "id": "73a68a6d",
   "metadata": {},
   "source": [
    "Project Details\n",
    "\n",
    "1. Please write a program which accepts a string from console and print it in reverse order.\n",
    " Example: If the following string is given as input to the program:\n",
    " welcome to edureka\n",
    " Then, the output of the program should be:\n",
    " akerude ot emoclew\n",
    "2. Please write a program which counts and prints the numbers of each character in a string input by the console.\n",
    " Example: If the following string is given as input to the program:\n",
    " abcdefgabc\n",
    " Then, the output of the program should be:\n",
    "a,2\n",
    "b,2\n",
    "c,2\n",
    "d,1\n",
    "e,1\n",
    "f,1\n",
    "g,1"
   ]
  },
  {
   "cell_type": "markdown",
   "id": "6e9b8771",
   "metadata": {},
   "source": [
    " 1. Please write a program which accepts a string from console and print it in reverse order.\n",
    " Example: If the following string is given as input to the program:\n",
    " welcome to edureka\n",
    " Then, the output of the program should be:\n",
    " akerude ot emoclew\n"
   ]
  },
  {
   "cell_type": "code",
   "execution_count": 1,
   "id": "c7c45ca6",
   "metadata": {},
   "outputs": [
    {
     "name": "stdout",
     "output_type": "stream",
     "text": [
      "welcome to edureka\n",
      "akerude ot emoclew"
     ]
    }
   ],
   "source": [
    "a=input()\n",
    "for i in range(len(a)-1,-1,-1):\n",
    "    print(a[i],end='')"
   ]
  },
  {
   "cell_type": "markdown",
   "id": "2820da8e",
   "metadata": {},
   "source": [
    "2. Please write a program which counts and prints the numbers of each character in a string input by the console.\n",
    " Example: If the following string is given as input to the program:\n",
    " abcdefgabc\n",
    " Then, the output of the program should be:\n",
    "a,2\n",
    "b,2\n",
    "c,2\n",
    "d,1\n",
    "e,1\n",
    "f,1\n",
    "g,1"
   ]
  },
  {
   "cell_type": "code",
   "execution_count": 9,
   "id": "127bb303",
   "metadata": {},
   "outputs": [
    {
     "name": "stdout",
     "output_type": "stream",
     "text": [
      "Enter a string: abcdefgabc\n",
      "a,2\n",
      "b,2\n",
      "c,2\n",
      "d,1\n",
      "e,1\n",
      "f,1\n",
      "g,1\n"
     ]
    }
   ],
   "source": [
    "string = input(\"Enter a string: \")\n",
    "list1 = []\n",
    "for char in string:\n",
    "    if char not in list1:\n",
    "        list1.append(char)\n",
    "for item in list1:\n",
    "    print(item,string.count(item), sep = \",\")"
   ]
  }
 ],
 "metadata": {
  "kernelspec": {
   "display_name": "Python 3 (ipykernel)",
   "language": "python",
   "name": "python3"
  },
  "language_info": {
   "codemirror_mode": {
    "name": "ipython",
    "version": 3
   },
   "file_extension": ".py",
   "mimetype": "text/x-python",
   "name": "python",
   "nbconvert_exporter": "python",
   "pygments_lexer": "ipython3",
   "version": "3.9.12"
  }
 },
 "nbformat": 4,
 "nbformat_minor": 5
}
